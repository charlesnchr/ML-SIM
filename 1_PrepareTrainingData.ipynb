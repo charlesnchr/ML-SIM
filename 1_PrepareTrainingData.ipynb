{
 "cells": [
  {
   "cell_type": "markdown",
   "metadata": {},
   "source": [
    "# ML-SIM training dataset preparation"
   ]
  },
  {
   "cell_type": "markdown",
   "metadata": {},
   "source": [
    "A Matlab implementation called OpenSIM is used as a reference for simulating Structured Illumination Microscopy (SIM) image formation. The OpenSIM codebase, see Credits on Github repo, has been ported to Python and modified to improve accuracy of the SIM imaging proces, as well as generalising it to other SIM configurations (not just 3x3 illumination orientations/phase shifts, but also 3x5, 5x5 etc.) and allowing flexible control of input parameters via an options object."
   ]
  },
  {
   "cell_type": "markdown",
   "metadata": {},
   "source": [
    "This notebook is based on `MLSIM_pipeline.py`."
   ]
  },
  {
   "cell_type": "markdown",
   "metadata": {},
   "source": [
    "### Imports"
   ]
  },
  {
   "cell_type": "code",
   "execution_count": 6,
   "metadata": {},
   "outputs": [],
   "source": [
    "import argparse\n",
    "import numpy as np\n",
    "from numpy import pi\n",
    "import os\n",
    "import glob\n",
    "import sys\n",
    "import math\n",
    "import subprocess\n",
    "from skimage import io, transform\n",
    "import MLSIM_datagen.SIMulator_functions"
   ]
  },
  {
   "cell_type": "markdown",
   "metadata": {},
   "source": [
    "### Options"
   ]
  },
  {
   "cell_type": "code",
   "execution_count": 7,
   "metadata": {},
   "outputs": [],
   "source": [
    "# SIM options to control from command line (only via MLSIM_pipeline.py, not Jupyter)\n",
    "SIMopt = argparse.Namespace()\n",
    "\n",
    "# directory of source images used for simulation\n",
    "SIMopt.sourceimages_path = 'Training_data/DIV2K_subset'\n",
    "# directory to store training data\n",
    "SIMopt.root = 'Training_data/SIMdata'\n",
    "# desired samples for training and validation - e.g. ntrain=2350 and ntest=50\n",
    "SIMopt.ntrain = 10\n",
    "SIMopt.ntest = 5 \n",
    "# network input layer channels, e.g. 3x3\n",
    "SIMopt.nch_in = 9 \n",
    "SIMopt.imageSize = 512\n",
    "# instances of same source image (randomisation)\n",
    "SIMopt.nrep = 3\n",
    "# threads used to generate data\n",
    "SIMopt.datagen_workers = 4 # only works with MLSIM_pipeline.py\n",
    "# image extensions to accept, e.g. ['png','jpg','tif']\n",
    "SIMopt.ext = ['png']\n",
    "\n",
    "# ------------ Parameters-------------\n",
    "# phase shifts for each stripe\n",
    "SIMopt.Nshifts = 3\n",
    "# number of orientations of stripes\n",
    "SIMopt.Nangles = 3\n",
    "# used to adjust PSF/OTF width\n",
    "SIMopt.scale = 0.9 + 0.1*(np.random.rand()-0.5)\n",
    "# modulation factor\n",
    "SIMopt.ModFac = 0.8 + 0.3*(np.random.rand()-0.5)\n",
    "# orientation offset\n",
    "SIMopt.alpha = 0.33*pi*(np.random.rand()-0.5)\n",
    "# orientation error\n",
    "SIMopt.angleError = 10*pi/180*(np.random.rand()-0.5)\n",
    "# shuffle the order of orientations\n",
    "SIMopt.shuffleOrientations = True\n",
    "# random phase shift errors\n",
    "SIMopt.phaseError = 0.33*pi*(0.5-np.random.rand(SIMopt.Nangles, SIMopt.Nshifts))\n",
    "# mean illumination intensity\n",
    "SIMopt.meanInten = np.ones(SIMopt.Nangles)*0.5\n",
    "# amplitude of illumination intensity above mean\n",
    "SIMopt.ampInten = np.ones(SIMopt.Nangles)*0.5*SIMopt.ModFac\n",
    "# illumination freq\n",
    "SIMopt.k2 = 126 + 30*(np.random.rand()-0.5)\n",
    "# noise type\n",
    "SIMopt.usePoissonNoise = False\n",
    "# noise level (percentage for Gaussian)\n",
    "SIMopt.NoiseLevel = 8 + 8*(np.random.rand()-0.5)\n",
    "# 1(to blur using PSF), 0(to blur using OTF)\n",
    "SIMopt.UsePSF = 0\n",
    "# include OTF and GT in stack\n",
    "SIMopt.OTF_and_GT = True\n",
    "# use a blurred target (according to theoretical optimal reconstruction)\n",
    "SIMopt.applyOTFtoGT = False"
   ]
  },
  {
   "cell_type": "markdown",
   "metadata": {},
   "source": [
    "### Validate options and setup"
   ]
  },
  {
   "cell_type": "code",
   "execution_count": 8,
   "metadata": {},
   "outputs": [],
   "source": [
    "os.makedirs(SIMopt.root, exist_ok=True)\n",
    "\n",
    "files = []\n",
    "for ext in SIMopt.ext:\n",
    "    files.extend(glob.glob(SIMopt.sourceimages_path + \"/*.\" + ext))\n",
    "\n",
    "if len(files) == 0:\n",
    "    print('source images not found')\n",
    "    sys.exit(0)\n",
    "elif SIMopt.ntrain + SIMopt.ntest > SIMopt.nrep*len(files):\n",
    "    print('ntrain + opt.ntest is too high given nrep and number of source images')\n",
    "    sys.exit(0)\n",
    "elif SIMopt.nch_in > SIMopt.Nangles*SIMopt.Nshifts:\n",
    "    print('nch_in cannot be greater than Nangles*Nshifts - not enough SIM frames')\n",
    "    sys.exit(0)\n",
    "\n",
    "files = files[:math.ceil( (SIMopt.ntrain + SIMopt.ntest) / SIMopt.nrep )]"
   ]
  },
  {
   "cell_type": "markdown",
   "metadata": {},
   "source": [
    "## Main data generation loop"
   ]
  },
  {
   "cell_type": "code",
   "execution_count": 9,
   "metadata": {},
   "outputs": [
    {
     "name": "stdout",
     "output_type": "stream",
     "text": [
      "Generating SIM frames for Training_data/DIV2K_subset\\0001.png\n",
      "Generating SIM frames for Training_data/DIV2K_subset\\0002.png\n",
      "Generating SIM frames for Training_data/DIV2K_subset\\0003.png\n",
      "Generating SIM frames for Training_data/DIV2K_subset\\0004.png\n",
      "Generating SIM frames for Training_data/DIV2K_subset\\0005.png\n",
      "Done generating images, Training_data/SIMdata\n"
     ]
    }
   ],
   "source": [
    "# ------------ Main loop --------------\n",
    "def processImage(SIMopt,file):\n",
    "    Io = io.imread(file) / 255\n",
    "    Io = transform.resize(Io, (SIMopt.imageSize, SIMopt.imageSize), anti_aliasing=True)\n",
    "\n",
    "    if len(Io.shape) > 2 and Io.shape[2] > 1:\n",
    "        Io = Io.mean(2)  # if not grayscale\n",
    "\n",
    "    filename = os.path.basename(file).replace('.png', '')\n",
    "\n",
    "    print('Generating SIM frames for', file)\n",
    "\n",
    "    for n in range(SIMopt.nrep):\n",
    "        SIMopt.outputname = '%s/%s_%d.tif' % (SIMopt.root, filename, n)\n",
    "        I = MLSIM_datagen.SIMulator_functions.Generate_SIM_Image(SIMopt, Io)\n",
    "        \n",
    "\n",
    "for file in files:\n",
    "    processImage(SIMopt,file)\n",
    "print('Done generating images,',SIMopt.root)"
   ]
  },
  {
   "cell_type": "code",
   "execution_count": null,
   "metadata": {},
   "outputs": [],
   "source": []
  }
 ],
 "metadata": {
  "kernelspec": {
   "display_name": "Python 3",
   "language": "python",
   "name": "python3"
  },
  "language_info": {
   "codemirror_mode": {
    "name": "ipython",
    "version": 3
   },
   "file_extension": ".py",
   "mimetype": "text/x-python",
   "name": "python",
   "nbconvert_exporter": "python",
   "pygments_lexer": "ipython3",
   "version": "3.8.5"
  }
 },
 "nbformat": 4,
 "nbformat_minor": 4
}
