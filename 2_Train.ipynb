{
 "cells": [
  {
   "cell_type": "markdown",
   "metadata": {},
   "source": [
    "# ML-SIM Train"
   ]
  },
  {
   "cell_type": "markdown",
   "metadata": {},
   "source": [
    "This notebook is a wrapper of `run.py`. The command-line interface of `run.py` can be used as well and may be preferred."
   ]
  },
  {
   "cell_type": "markdown",
   "metadata": {},
   "source": [
    "### Imports"
   ]
  },
  {
   "cell_type": "code",
   "execution_count": 8,
   "metadata": {},
   "outputs": [],
   "source": [
    "import argparse\n",
    "import run"
   ]
  },
  {
   "cell_type": "markdown",
   "metadata": {},
   "source": [
    "### Options"
   ]
  },
  {
   "cell_type": "code",
   "execution_count": 11,
   "metadata": {},
   "outputs": [],
   "source": [
    "opt = argparse.Namespace()\n",
    "\n",
    "opt.root = 'Training_data/SIMdata'\n",
    "opt.out = 'model_output'\n",
    "opt.task = 'simin_gtout'\n",
    "opt.norm = 'minmax'\n",
    "opt.dataset = 'fouriersim'\n",
    "\n",
    "opt.nplot = 5\n",
    "\n",
    "opt.model = 'rcan'\n",
    "opt.lr = 1e-4\n",
    "opt.log = False\n",
    "\n",
    "# data\n",
    "opt.imageSize = 512\n",
    "opt.weights = ''\n",
    "\n",
    "# computation \n",
    "opt.workers = 6\n",
    "opt.batchSize = 1\n",
    "opt.cpu = False\n",
    "\n",
    "# input/output layer options\n",
    "opt.scale = 1\n",
    "opt.nch_in = 9\n",
    "opt.nch_out = 1\n",
    "\n",
    "# architecture options \n",
    "opt.narch = 0\n",
    "opt.n_resblocks = 3\n",
    "opt.n_resgroups = 5\n",
    "opt.reduction = 16\n",
    "opt.n_feats = 48\n",
    "\n",
    "# training\n",
    "opt.ntrain = 10\n",
    "opt.nepoch = 10\n",
    "opt.disposableTrainingData = False\n",
    "opt.saveinterval = 2\n",
    "opt.scheduler = '20,0.5'\n",
    "\n",
    "# test options\n",
    "opt.ntest = 5\n",
    "opt.testinterval = 1\n",
    "opt.test = False\n",
    "opt.batchSize_test = 1\n",
    "opt.plotinterval = 1\n",
    "opt.nplot = 4"
   ]
  },
  {
   "cell_type": "markdown",
   "metadata": {},
   "source": [
    "## Run"
   ]
  },
  {
   "cell_type": "code",
   "execution_count": 12,
   "metadata": {},
   "outputs": [
    {
     "output_type": "stream",
     "name": "stdout",
     "text": [
      "Namespace(batchSize=1, batchSize_test=1, cpu=True, dataset='fouriersim', device=device(type='cpu'), disposableTrainingData=False, fid=<_io.TextIOWrapper name='model_output/log.txt' mode='w' encoding='UTF-8'>, imageSize=512, log=False, lr=0.0001, model='rcan', n_feats=48, n_resblocks=3, n_resgroups=5, narch=0, nch_in=9, nch_out=1, nepoch=10, norm='minmax', nplot=4, ntest=5, ntrain=10, out='model_output', plotinterval=1, reduction=16, root='Training_data/SIMdata', saveinterval=2, scale=1, scheduler='20,0.5', task='simin_gtout', test=False, testinterval=1, weights='', workers=6) \n",
      "\n",
      "\n",
      "ARGS: ipykernel_launcher --ip=127.0.0.1 --stdin=9023 --control=9021 --hb=9020 --Session.signature_scheme=\"hmac-sha256\" --Session.key=b\"65d4667b-a307-4e18-87d6-71ea403209dd\" --shell=9022 --transport=\"tcp\" --iopub=9024 --f=/var/folders/0k/ljyf15js13l2g865cbsr4ldc0000gn/T/tmp-282210SFolZ9lPf3s.json\n",
      "\n",
      "getting dataloader Training_data/SIMdata\n",
      "[1/10][1/10] Loss: 0.337676"
     ]
    }
   ],
   "source": [
    "run.main(opt)"
   ]
  }
 ],
 "metadata": {
  "kernelspec": {
   "name": "python385jvsc74a57bd0e8899de3d55cd6179840b26c76a9dc895766e3a9a38507cfcd5c806174aa480d",
   "display_name": "Python 3.8.5 64-bit ('anaconda3': conda)"
  },
  "language_info": {
   "codemirror_mode": {
    "name": "ipython",
    "version": 3
   },
   "file_extension": ".py",
   "mimetype": "text/x-python",
   "name": "python",
   "nbconvert_exporter": "python",
   "pygments_lexer": "ipython3",
   "version": "3.8.5-final"
  }
 },
 "nbformat": 4,
 "nbformat_minor": 4
}